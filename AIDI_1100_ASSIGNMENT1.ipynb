{
  "nbformat": 4,
  "nbformat_minor": 0,
  "metadata": {
    "colab": {
      "provenance": [],
      "collapsed_sections": []
    },
    "kernelspec": {
      "name": "python3",
      "display_name": "Python 3"
    },
    "language_info": {
      "name": "python"
    }
  },
  "cells": [
    {
      "cell_type": "code",
      "execution_count": 16,
      "metadata": {
        "id": "jgKTxcZ9sftQ"
      },
      "outputs": [],
      "source": [
        "# Here i have define the class,i have used it to creates a user-defined data structure, which holds its own \n",
        "#data members and member functions that can be accessed and used by creating an instance of that class.\n",
        "class color: \n",
        "   BOLD = '\\033[1m'\n",
        "   UNDERLINE = '\\033[4m'\n",
        "   END = '\\033[0m'"
      ]
    },
    {
      "cell_type": "code",
      "source": [
        "#bonus income and gross income by putting formula\n",
        "def cal_bon_amt(salary,bonus_perce):\n",
        "  return ((salary * bonus_perce)/100)\n",
        "def cal_gross_income(salary,bonus_perce):\n",
        "  bonus = (salary * bonus_perce)/100\n",
        "  gross_income = salary + bonus\n",
        "  return gross_income"
      ],
      "metadata": {
        "id": "20izwTsmsvPy"
      },
      "execution_count": 17,
      "outputs": []
    },
    {
      "cell_type": "code",
      "source": [
        "def cal_net_income(gross_income, deductions):\n",
        "  net_income = gross_income - deductions[3]\n",
        "  return net_income"
      ],
      "metadata": {
        "id": "h4Hhu8_hsva0"
      },
      "execution_count": 18,
      "outputs": []
    },
    {
      "cell_type": "code",
      "source": [
        "def cal_deductions(gross_income):\n",
        "  taxes = gross_income * 0.135\n",
        "  benefits = gross_income * 0.055\n",
        "  govt_reductions = gross_income * 0.025\n",
        "  total_reductions = taxes + benefits + govt_reductions\n",
        "\n",
        "  return ([taxes,benefits,govt_reductions,total_reductions])"
      ],
      "metadata": {
        "id": "mhQW_hYbsvmB"
      },
      "execution_count": 19,
      "outputs": []
    },
    {
      "cell_type": "code",
      "source": [
        "#if else statement and defines bonus salary\n",
        "def cal_bonus(salary):\n",
        "  bonus_perce = 0\n",
        "  if(salary<0):\n",
        "    return \"error\"\n",
        "  if(salary<=20000):\n",
        "    bonus_perce = 12.5\n",
        "  elif(salary>20000 and salary<=50000 ):\n",
        "    bonus_perce = 11.5\n",
        "  elif(salary>50000 and salary<60000 ):\n",
        "    bonus_perce = 0\n",
        "  else:\n",
        "    bonus_perce = 10.5\n",
        "  \n",
        "  return bonus_perce"
      ],
      "metadata": {
        "id": "iSENSk6ktBZx"
      },
      "execution_count": 20,
      "outputs": []
    },
    {
      "cell_type": "code",
      "source": [
        "def cal_net_income(gross_income, deductions):\n",
        "  net_income = gross_income - deductions[3]\n",
        "  return net_income"
      ],
      "metadata": {
        "id": "NEE-wZRotBc5"
      },
      "execution_count": 21,
      "outputs": []
    },
    {
      "cell_type": "code",
      "source": [
        "#defines function to view pay monthly annually or bi weekly\n",
        "def ask_for_input():\n",
        "  print(\"Welcome to RIGHT CLICK ORBIT LIMITED Accounting Software. Please follow the prompt below to view pay stubs\\n\\n\")\n",
        "  view_option = input(\"Enter 1 for Bi-weekly View\\nEnter 2 for Monthly View\\nEnter 3 for Annual View\\n\")\n",
        "  if(view_option==\"1\"):\n",
        "    return(\"Monthly\")\n",
        "  elif(view_option==\"2\"):\n",
        "    return(\"Annual\")\n",
        "  elif(view_option==\"3\"):\n",
        "    return(\"Bi_weekly\")\n",
        "  else:\n",
        "    print(\"\\nWrong Option Selected. Please try again \\n \")\n",
        "    ask_for_input()\n"
      ],
      "metadata": {
        "id": "e46mS1rTtBji"
      },
      "execution_count": 22,
      "outputs": []
    },
    {
      "cell_type": "code",
      "source": [
        "#Employee details and bonus income\n",
        "def print_employ_details(emp_detail,view):\n",
        "  employ_name = emp_detail[0] + \",\" + emp_detail[1]\n",
        "  position = emp_detail[2]\n",
        "  if(view==\"Annual\"):\n",
        "    salary = emp_detail[3]\n",
        "  elif(view==\"Monthly\"):\n",
        "    salary = emp_detail[3]/12\n",
        "  else:\n",
        "    salary = emp_detail[3]/24\n",
        "  bonus_perce = cal_bonus(salary)\n",
        "  bonus_amt = cal_bon_amt(salary,bonus_perce)\n",
        "  gross_income = cal_gross_income(salary,bonus_perce)\n",
        "  deductions = cal_deductions(gross_income)\n",
        "  net_income = cal_net_income(gross_income, deductions)\n",
        "\n",
        "  print(\"Employ: \" + color.BOLD + employ_name + color.END)\n",
        "  print(\"Position: \" + color.BOLD + position + color.END)\n",
        "  print(view+\" Salary: \" + color.BOLD + \"$\" + format(salary,\",\") + color.END)\n",
        "  print(\"Bonus(\"+str(bonus_perce)+\"%): \" + color.BOLD + \"$\" + format(bonus_amt,\",\")+ color.END)\n",
        "  print(\"Gross \"+view+\" Income: \" + color.BOLD + color.UNDERLINE +\"$\" + format(gross_income,\",\") + color.END)\n",
        "  print('─' * 45)\n",
        "  print(\"Deductible (Taxes 13.5%): \" + color.BOLD + \"$\" + format(deductions[0],\",\") + color.END)\n",
        "  print(\"Deductible (Taxes 5.5%): \" + color.BOLD + \"$\" + format(deductions[1],\",\") + color.END)\n",
        "  print(\"Deductible (Taxes 2.5%): \" + color.BOLD + \"$\" + format(deductions[2],\",\") + color.END)\n",
        "  print(\"Deductible (Total): \" + color.BOLD +  color.UNDERLINE + \"$\" + format(deductions[3],\",\") + color.END)\n",
        "  print('─' * 45)\n",
        "  print(\"Net \" + view+ \" Income: \" + color.BOLD +  color.UNDERLINE + \"$\" + format(net_income,\",\") + color.END)\n",
        "  print('─' * 45)\n",
        "  print('─' * 45)\n"
      ],
      "metadata": {
        "id": "hMHBawyKtBtC"
      },
      "execution_count": 23,
      "outputs": []
    },
    {
      "cell_type": "code",
      "source": [
        "#Output and view of pay for the employee\n",
        "def print_header(view):\n",
        "  company_name= \"RIGHT CLICK ORBIT LIMITED\"\n",
        "  date = \"2022-10-16\"\n",
        "  print(\"\\n\\n\"+view + \" view\")\n",
        "  print('─' * 45)\n",
        "  print('─' * 45)\n",
        "  print(\"Company name: \" + company_name)\n",
        "  print(\"Date of Pay-Stub: \",date)\n",
        "  print('─' * 45)"
      ],
      "metadata": {
        "id": "KAAarhdzvd1g"
      },
      "execution_count": 24,
      "outputs": []
    },
    {
      "cell_type": "code",
      "source": [
        "#employee details \n",
        "view = ask_for_input()\n",
        "print_header(view)\n",
        "employees = [[\"Morwal\",\"Harshit\",\"Technical Developer\",20000.00],[\"Patel\",\"Aditya\",\"Technical Lead\",30000.00],[\"Prajapati\",\"Dhruv\",\"software developer\",40000.00],[\"Mann\",\"Mankirat\",\"Technical manager\",50000.00],[\"Saini\",\"Abhinav\",\"Technical member\",55000.00]]\n",
        "\n",
        "for emp_detail in employees:\n",
        "  print_employ_details(emp_detail, view)"
      ],
      "metadata": {
        "colab": {
          "base_uri": "https://localhost:8080/"
        },
        "id": "P2zCmBWovndw",
        "outputId": "607844a3-57a4-47ba-a87e-494c33004dba"
      },
      "execution_count": 25,
      "outputs": [
        {
          "output_type": "stream",
          "name": "stdout",
          "text": [
            "Welcome to RIGHT CLICK ORBIT LIMITED Accounting Software. Please follow the prompt below to view pay stubs\n",
            "\n",
            "\n",
            "Enter 1 for Bi-weekly View\n",
            "Enter 2 for Monthly View\n",
            "Enter 3 for Annual View\n",
            "3\n",
            "\n",
            "\n",
            "Bi_weekly view\n",
            "─────────────────────────────────────────────\n",
            "─────────────────────────────────────────────\n",
            "Company name: RIGHT CLICK ORBIT LIMITED\n",
            "Date of Pay-Stub:  2022-10-16\n",
            "─────────────────────────────────────────────\n",
            "Employ: \u001b[1mMorwal,Harshit\u001b[0m\n",
            "Position: \u001b[1mTechnical Developer\u001b[0m\n",
            "Bi_weekly Salary: \u001b[1m$833.3333333333334\u001b[0m\n",
            "Bonus(12.5%): \u001b[1m$104.16666666666669\u001b[0m\n",
            "Gross Bi_weekly Income: \u001b[1m\u001b[4m$937.5\u001b[0m\n",
            "─────────────────────────────────────────────\n",
            "Deductible (Taxes 13.5%): \u001b[1m$126.56250000000001\u001b[0m\n",
            "Deductible (Taxes 5.5%): \u001b[1m$51.5625\u001b[0m\n",
            "Deductible (Taxes 2.5%): \u001b[1m$23.4375\u001b[0m\n",
            "Deductible (Total): \u001b[1m\u001b[4m$201.5625\u001b[0m\n",
            "─────────────────────────────────────────────\n",
            "Net Bi_weekly Income: \u001b[1m\u001b[4m$735.9375\u001b[0m\n",
            "─────────────────────────────────────────────\n",
            "─────────────────────────────────────────────\n",
            "Employ: \u001b[1mPatel,Aditya\u001b[0m\n",
            "Position: \u001b[1mTechnical Lead\u001b[0m\n",
            "Bi_weekly Salary: \u001b[1m$1,250.0\u001b[0m\n",
            "Bonus(12.5%): \u001b[1m$156.25\u001b[0m\n",
            "Gross Bi_weekly Income: \u001b[1m\u001b[4m$1,406.25\u001b[0m\n",
            "─────────────────────────────────────────────\n",
            "Deductible (Taxes 13.5%): \u001b[1m$189.84375\u001b[0m\n",
            "Deductible (Taxes 5.5%): \u001b[1m$77.34375\u001b[0m\n",
            "Deductible (Taxes 2.5%): \u001b[1m$35.15625\u001b[0m\n",
            "Deductible (Total): \u001b[1m\u001b[4m$302.34375\u001b[0m\n",
            "─────────────────────────────────────────────\n",
            "Net Bi_weekly Income: \u001b[1m\u001b[4m$1,103.90625\u001b[0m\n",
            "─────────────────────────────────────────────\n",
            "─────────────────────────────────────────────\n",
            "Employ: \u001b[1mPrajapati,Dhruv\u001b[0m\n",
            "Position: \u001b[1msoftware developer\u001b[0m\n",
            "Bi_weekly Salary: \u001b[1m$1,666.6666666666667\u001b[0m\n",
            "Bonus(12.5%): \u001b[1m$208.33333333333337\u001b[0m\n",
            "Gross Bi_weekly Income: \u001b[1m\u001b[4m$1,875.0\u001b[0m\n",
            "─────────────────────────────────────────────\n",
            "Deductible (Taxes 13.5%): \u001b[1m$253.12500000000003\u001b[0m\n",
            "Deductible (Taxes 5.5%): \u001b[1m$103.125\u001b[0m\n",
            "Deductible (Taxes 2.5%): \u001b[1m$46.875\u001b[0m\n",
            "Deductible (Total): \u001b[1m\u001b[4m$403.125\u001b[0m\n",
            "─────────────────────────────────────────────\n",
            "Net Bi_weekly Income: \u001b[1m\u001b[4m$1,471.875\u001b[0m\n",
            "─────────────────────────────────────────────\n",
            "─────────────────────────────────────────────\n",
            "Employ: \u001b[1mMann,Mankirat\u001b[0m\n",
            "Position: \u001b[1mTechnical manager\u001b[0m\n",
            "Bi_weekly Salary: \u001b[1m$2,083.3333333333335\u001b[0m\n",
            "Bonus(12.5%): \u001b[1m$260.4166666666667\u001b[0m\n",
            "Gross Bi_weekly Income: \u001b[1m\u001b[4m$2,343.75\u001b[0m\n",
            "─────────────────────────────────────────────\n",
            "Deductible (Taxes 13.5%): \u001b[1m$316.40625\u001b[0m\n",
            "Deductible (Taxes 5.5%): \u001b[1m$128.90625\u001b[0m\n",
            "Deductible (Taxes 2.5%): \u001b[1m$58.59375\u001b[0m\n",
            "Deductible (Total): \u001b[1m\u001b[4m$503.90625\u001b[0m\n",
            "─────────────────────────────────────────────\n",
            "Net Bi_weekly Income: \u001b[1m\u001b[4m$1,839.84375\u001b[0m\n",
            "─────────────────────────────────────────────\n",
            "─────────────────────────────────────────────\n",
            "Employ: \u001b[1mSaini,Abhinav\u001b[0m\n",
            "Position: \u001b[1mTechnical member\u001b[0m\n",
            "Bi_weekly Salary: \u001b[1m$2,291.6666666666665\u001b[0m\n",
            "Bonus(12.5%): \u001b[1m$286.4583333333333\u001b[0m\n",
            "Gross Bi_weekly Income: \u001b[1m\u001b[4m$2,578.125\u001b[0m\n",
            "─────────────────────────────────────────────\n",
            "Deductible (Taxes 13.5%): \u001b[1m$348.046875\u001b[0m\n",
            "Deductible (Taxes 5.5%): \u001b[1m$141.796875\u001b[0m\n",
            "Deductible (Taxes 2.5%): \u001b[1m$64.453125\u001b[0m\n",
            "Deductible (Total): \u001b[1m\u001b[4m$554.296875\u001b[0m\n",
            "─────────────────────────────────────────────\n",
            "Net Bi_weekly Income: \u001b[1m\u001b[4m$2,023.828125\u001b[0m\n",
            "─────────────────────────────────────────────\n",
            "─────────────────────────────────────────────\n"
          ]
        }
      ]
    },
    {
      "cell_type": "code",
      "source": [],
      "metadata": {
        "id": "RY9zQs0Z5aK2"
      },
      "execution_count": null,
      "outputs": []
    }
  ]
}